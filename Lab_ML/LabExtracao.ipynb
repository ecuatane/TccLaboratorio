{
 "cells": [
  {
   "cell_type": "code",
   "execution_count": null,
   "metadata": {
    "id": "gS4znmmVQZ4V"
   },
   "outputs": [],
   "source": [
    "import pandas as pd\n",
    "import numpy as np"
   ]
  },
  {
   "cell_type": "code",
   "execution_count": null,
   "metadata": {
    "id": "y5j2vDPGRkFb"
   },
   "outputs": [],
   "source": [
    "data = pd.read_csv('C:/Users/Eustacio Cuatane/Desktop/Laboratorios/caracteristicas.csv') "
   ]
  },
  {
   "cell_type": "code",
   "execution_count": null,
   "metadata": {
    "colab": {
     "base_uri": "https://localhost:8080/"
    },
    "executionInfo": {
     "elapsed": 26933,
     "status": "ok",
     "timestamp": 1696101796718,
     "user": {
      "displayName": "Eustacio Domingos Muteia Cuatane",
      "userId": "08638891244016861591"
     },
     "user_tz": 420
    },
    "id": "TPaVJuIug-Np",
    "outputId": "e1f3d59d-2b70-499f-e206-efff83f1a666"
   },
   "outputs": [],
   "source": [
    "from google.colab import drive\n",
    "drive.mount('/content/drive')"
   ]
  },
  {
   "cell_type": "markdown",
   "metadata": {},
   "source": [
    "# Extracao de caracteristicas da primeira ordem"
   ]
  },
  {
   "cell_type": "code",
   "execution_count": null,
   "metadata": {
    "id": "9ZVKQitrYB8e"
   },
   "outputs": [],
   "source": [
    "lista_de_listas = []\n",
    "lista_final=[]\n",
    "\n",
    "for index, row in data.iterrows():\n",
    "    linha = [row['Nome'], row['idSessao'], row['Repeticao'], row['Chave'], row['Tp'], row['Ts']]\n",
    "    lista_de_listas.append(linha)\n"
   ]
  },
  {
   "cell_type": "code",
   "execution_count": null,
   "metadata": {
    "id": "DhjLIBhJMYdh"
   },
   "outputs": [],
   "source": [
    "#Calcular as latencias entre teclas consecutivas\n",
    "\n",
    "def calculaDuracao(linha1,linha2):\n",
    "    duracao=(linha2-linha1)/1000\n",
    "    return duracao\n",
    "\n",
    "def calculaPP(linha1,linha2):\n",
    "    PP=(linha2-linha1)/1000\n",
    "    return PP\n",
    "\n",
    "def calculaSS(linha1,linha2):\n",
    "    SS=(linha2-linha1)/1000\n",
    "    return SS\n",
    "\n",
    "\n",
    "def calculaPS(linha1,linha2):\n",
    "    SP=(linha2-linha1)/1000\n",
    "    return SP\n",
    "\n"
   ]
  },
  {
   "cell_type": "code",
   "execution_count": null,
   "metadata": {
    "id": "RouswE5-MYdi"
   },
   "outputs": [],
   "source": [
    "finalDados = []\n",
    "\n",
    "tamanho = len(lista_de_listas)\n",
    "inicio = 0\n",
    "fim = 9\n",
    "while inicio < tamanho:\n",
    "    palavra = \"\"\n",
    "    linhas_de_dados = lista_de_listas[inicio:fim]\n",
    "\n",
    "    dados = [] \n",
    "    primeira_linha = linhas_de_dados[0]\n",
    "    nome = primeira_linha[0]\n",
    "    sessao = primeira_linha[1]\n",
    "    repeticao = primeira_linha[2]\n",
    "    iP1=primeira_linha[4]\n",
    "\n",
    "    dados.append(nome)\n",
    "    dados.append(sessao)\n",
    "    dados.append(repeticao)\n",
    "\n",
    "    for i in range(len(linhas_de_dados)):\n",
    "        linha = linhas_de_dados[i]\n",
    "        lista = linha[4]\n",
    "        Tp1 = linha[4]\n",
    "        Ts1 = linha[5]\n",
    "        palavra = palavra + linha[3]\n",
    "\n",
    "        if i <len(linhas_de_dados) - 1:\n",
    "            proxima_linha = linhas_de_dados[i + 1]\n",
    "            Tp2 = proxima_linha[4]\n",
    "            Ts2 = proxima_linha[5]\n",
    "\n",
    "            d = calculaDuracao(Tp1, Ts1)\n",
    "            PP1 = calculaPP(Tp1, Tp2)\n",
    "            SS1 = calculaSS(Ts1, Ts2)\n",
    "            PS1 = calculaPS(Tp1, Ts2)\n",
    "            dados.append(d)\n",
    "            dados.append(PP1)\n",
    "            dados.append(SS1)\n",
    "            dados.append(PS1)\n",
    "         \n",
    "    finalDados.append(dados)\n",
    "\n",
    "    # Juastando os indices para a proxima iteracao\n",
    "    inicio += 9\n",
    "    fim += 9\n",
    "\n",
    "# Imprimir os resultados\n",
    "for linha in finalDados:\n",
    "    print(linha)\n"
   ]
  },
  {
   "cell_type": "code",
   "execution_count": null,
   "metadata": {
    "id": "YZywQu8TMYdj"
   },
   "outputs": [],
   "source": [
    "finalDados"
   ]
  },
  {
   "cell_type": "code",
   "execution_count": null,
   "metadata": {
    "colab": {
     "base_uri": "https://localhost:8080/"
    },
    "executionInfo": {
     "elapsed": 19,
     "status": "ok",
     "timestamp": 1696103913952,
     "user": {
      "displayName": "Eustacio Domingos Muteia Cuatane",
      "userId": "08638891244016861591"
     },
     "user_tz": 420
    },
    "id": "LPjoYGcqMYdj",
    "outputId": "226073ae-3bd5-42a7-b724-5e446bd59a3d"
   },
   "outputs": [],
   "source": [
    "\n",
    "df = pd.DataFrame(finalDados)\n",
    "numero_colunas_desejadas = 36  \n",
    "\n",
    "if len(df.columns) == numero_colunas_desejadas:\n",
    "    df.columns = ['Nome', 'Sessao', 'Repeticao', 'Duracao.v', 'PP.v_i', 'SS.v_i', 'PS.v_i',\n",
    "                  'Duracao.i', 'PP.i_d', 'SS.i_d', 'PS.i_d',\n",
    "                  'Duracao.d', 'PP.d_a', 'SS.d_a', 'PS.d_a',\n",
    "                  'Duracao.a', 'PP.a_ponto', 'SS.a_ponto', 'PS.a_ponto',\n",
    "                  'Duracao.ponto', 'PP.ponto_n', 'SS.ponto_n', 'PS.ponto_n',\n",
    "                  'Duracao.n', 'PP.n_o', 'SS.n_o', 'PS.n_o',\n",
    "                  'Duracao.o', 'PP.o_v', 'SS.o_v', 'PS.o_v',\n",
    "                  'Duracao.v2', 'PP.v_a', 'SS.v_a', 'PS.v_a','Duracao.a2']\n",
    "\n",
    "    print(df)\n",
    "else:\n",
    "    print(\"O número de colunas no DataFrame não corresponde ao número de colunas desejadas.\")\n",
    "\n",
    "\n",
    "\n"
   ]
  },
  {
   "cell_type": "code",
   "execution_count": null,
   "metadata": {
    "colab": {
     "base_uri": "https://localhost:8080/"
    },
    "executionInfo": {
     "elapsed": 799,
     "status": "ok",
     "timestamp": 1695491722170,
     "user": {
      "displayName": "Eustacio Domingos Muteia Cuatane",
      "userId": "08638891244016861591"
     },
     "user_tz": 420
    },
    "id": "YWtXpsMhMYdk",
    "outputId": "74632ba9-612f-4f07-92f7-2b9eceb1bbba"
   },
   "outputs": [],
   "source": [
    "caminho_arquivo_csv = 'Type_me.csv'\n",
    "\n",
    "df.to_csv(caminho_arquivo_csv, index=False, header=True)\n",
    "\n",
    "print(\"Dados foram salvos no arquivo CSV:\", caminho_arquivo_csv)"
   ]
  },
  {
   "cell_type": "markdown",
   "metadata": {
    "id": "fYqCDnEbYIPK"
   },
   "source": [
    "# **Extracao** **de** **caracteristicas** **da** **segunda**  ordem"
   ]
  },
  {
   "cell_type": "code",
   "execution_count": null,
   "metadata": {
    "id": "celBSHkwafqT"
   },
   "outputs": [],
   "source": [
    "dataFinal=df"
   ]
  },
  {
   "cell_type": "code",
   "execution_count": null,
   "metadata": {
    "id": "o4aPBKoxapwm"
   },
   "outputs": [],
   "source": [
    "\n",
    "dataFinal['Media_Duracao'] = dataFinal[['Duracao.v', 'Duracao.i', 'Duracao.d', 'Duracao.a', 'Duracao.ponto', 'Duracao.n', 'Duracao.o', 'Duracao.v2']].mean(axis=1)\n",
    "\n",
    "# Calcular a media de 'PP' para cada linha e criar uma nova coluna 'Media_PP'\n",
    "dataFinal['Media_PP'] = dataFinal[['PP.v_i', 'PP.i_d', 'PP.d_a', 'PP.a_ponto', 'PP.ponto_n', 'PP.n_o', 'PP.o_v', 'PP.v_a']].mean(axis=1)\n",
    "\n",
    "# Calcular a media de 'PS' para cada linha e criar uma nova coluna 'Media_PS'\n",
    "dataFinal['Media_PS'] = dataFinal[['PS.v_i', 'PS.i_d', 'PS.d_a', 'PS.a_ponto', 'PS.ponto_n', 'PS.n_o', 'PS.o_v', 'PS.v_a']].mean(axis=1)\n",
    "\n",
    "# Calcular a media de 'PSS' para cada linha e criar uma nova coluna 'Media_SS'\n",
    "dataFinal['Media_SS'] = dataFinal[['SS.v_i', 'SS.i_d', 'SS.d_a', 'SS.a_ponto', 'SS.ponto_n', 'SS.n_o', 'SS.o_v', 'SS.v_a']].mean(axis=1)\n"
   ]
  },
  {
   "cell_type": "code",
   "execution_count": null,
   "metadata": {
    "colab": {
     "base_uri": "https://localhost:8080/"
    },
    "executionInfo": {
     "elapsed": 468,
     "status": "ok",
     "timestamp": 1696104023396,
     "user": {
      "displayName": "Eustacio Domingos Muteia Cuatane",
      "userId": "08638891244016861591"
     },
     "user_tz": 420
    },
    "id": "OicMrlDommnf",
    "outputId": "5ec440d7-ab9b-4931-be67-b20ae97b5323"
   },
   "outputs": [],
   "source": [
    "caminho_arquivo_csv = 'DatasetTcc.csv'\n",
    "\n",
    "# Salvar os dados em um arquivo CSV\n",
    "dataFinal.to_csv(caminho_arquivo_csv, index=False, header=True)\n",
    "\n",
    "print(\"Dados foram salvos no arquivo CSV:\", caminho_arquivo_csv)"
   ]
  }
 ],
 "metadata": {
  "colab": {
   "provenance": []
  },
  "kernelspec": {
   "display_name": "Python 3 (ipykernel)",
   "language": "python",
   "name": "python3"
  },
  "language_info": {
   "codemirror_mode": {
    "name": "ipython",
    "version": 3
   },
   "file_extension": ".py",
   "mimetype": "text/x-python",
   "name": "python",
   "nbconvert_exporter": "python",
   "pygments_lexer": "ipython3",
   "version": "3.11.4"
  }
 },
 "nbformat": 4,
 "nbformat_minor": 1
}
